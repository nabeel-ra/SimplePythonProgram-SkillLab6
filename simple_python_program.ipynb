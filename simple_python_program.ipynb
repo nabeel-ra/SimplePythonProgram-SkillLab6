{
 "cells": [
  {
   "cell_type": "code",
   "execution_count": null,
   "id": "71d4e50d",
   "metadata": {},
   "outputs": [],
   "source": [
    "# Simple Python program in Jupyter Notebook\n",
    "\n",
    "# Get user input\n",
    "name = input(\"Enter your name: \")\n",
    "number = int(input(\"Enter a number: \"))\n",
    "\n",
    "# Square the number\n",
    "result = number ** 2\n",
    "\n",
    "# Output result\n",
    "print(f\"Hello, {name}! The square of {number} is {result}.\")\n"
   ]
  }
 ],
 "metadata": {
  "language_info": {
   "name": "python"
  }
 },
 "nbformat": 4,
 "nbformat_minor": 5
}
